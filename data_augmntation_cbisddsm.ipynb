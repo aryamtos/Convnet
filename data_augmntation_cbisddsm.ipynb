{
  "nbformat": 4,
  "nbformat_minor": 0,
  "metadata": {
    "colab": {
      "name": "data_augmntation_cbisddsm.ipynb",
      "provenance": [],
      "mount_file_id": "1gDR7urYHuLwzUPnNNNZiF_8dskHKzDvZ",
      "authorship_tag": "ABX9TyOFHJhX2YRVnzxxKAfQkTnr",
      "include_colab_link": true
    },
    "kernelspec": {
      "name": "python3",
      "display_name": "Python 3"
    }
  },
  "cells": [
    {
      "cell_type": "markdown",
      "metadata": {
        "id": "view-in-github",
        "colab_type": "text"
      },
      "source": [
        "<a href=\"https://colab.research.google.com/github/aryamtos/convnet-tensorflow/blob/master/data_augmntation_cbisddsm.ipynb\" target=\"_parent\"><img src=\"https://colab.research.google.com/assets/colab-badge.svg\" alt=\"Open In Colab\"/></a>"
      ]
    },
    {
      "cell_type": "markdown",
      "metadata": {
        "id": "V2k9j5Q-PG3w"
      },
      "source": [
        "Data Augmentation - **CBIS** **DDSM**"
      ]
    },
    {
      "cell_type": "markdown",
      "metadata": {
        "id": "zsJdEsEFPX8n"
      },
      "source": [
        "\r\n",
        "\r\n",
        "1.   Instance of the ImageDataGenerator class\r\n",
        "2.   Pass the augmentation parameters through the constructor\r\n",
        "3.   Load image\r\n",
        "4.   Using flow method to augment the image\r\n",
        "5.   Reshape image first, because the input data to data  flow  must be Numpy array of rank 4 (error)\r\n",
        "\r\n"
      ]
    },
    {
      "cell_type": "code",
      "metadata": {
        "id": "siClXRDohVI_"
      },
      "source": [
        "from keras.preprocessing.image import ImageDataGenerator\r\n",
        "from skimage import io"
      ],
      "execution_count": 1,
      "outputs": []
    },
    {
      "cell_type": "markdown",
      "metadata": {
        "id": "5TLcBeb5Q9bT"
      },
      "source": [
        "Data Augmentation: Single Image"
      ]
    },
    {
      "cell_type": "code",
      "metadata": {
        "id": "7wGEupHriLRt"
      },
      "source": [
        "datagen = ImageDataGenerator(\r\n",
        "\trotation_range=45,\r\n",
        "\twidth_shift_range=0.2,\r\n",
        "\theight_shift_range=0.2,\r\n",
        "\tshear_range=0.2,\r\n",
        "\tzoom_range=0.2,\r\n",
        "\thorizontal_flip=True,\r\n",
        "\tfill_mode='nearest') #also try nearest,constant"
      ],
      "execution_count": 2,
      "outputs": []
    },
    {
      "cell_type": "code",
      "metadata": {
        "id": "cdLpx-XWLiks"
      },
      "source": [
        "x = io.imread('/dir/P_00004LEFTCC.png')"
      ],
      "execution_count": 3,
      "outputs": []
    },
    {
      "cell_type": "code",
      "metadata": {
        "id": "7MWx4qKPLsux"
      },
      "source": [
        "x = x.reshape((1,) + x.shape)"
      ],
      "execution_count": 4,
      "outputs": []
    },
    {
      "cell_type": "code",
      "metadata": {
        "id": "LX_u_2_3fMdz"
      },
      "source": [
        "i = 0\r\n",
        "for batch in datagen.flow(x, batch_size=16,  \r\n",
        "                          save_to_dir='/content/drive/MyDrive/Augmented', \r\n",
        "                          save_prefix='aug', \r\n",
        "                          save_format='png'):\r\n",
        "    i += 1\r\n",
        "    if i > 20:\r\n",
        "        break"
      ],
      "execution_count": null,
      "outputs": []
    }
  ]
}