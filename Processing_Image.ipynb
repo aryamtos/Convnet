{
  "nbformat": 4,
  "nbformat_minor": 0,
  "metadata": {
    "colab": {
      "name": "Processing Image.ipynb",
      "provenance": [],
      "collapsed_sections": [],
      "mount_file_id": "1dU62wMtfZn1ThBLEbFhCH2VuSAuTfFux",
      "authorship_tag": "ABX9TyNUBy3oY01/mP266EnXolRU",
      "include_colab_link": true
    },
    "kernelspec": {
      "name": "python3",
      "display_name": "Python 3"
    }
  },
  "cells": [
    {
      "cell_type": "markdown",
      "metadata": {
        "id": "view-in-github",
        "colab_type": "text"
      },
      "source": [
        "<a href=\"https://colab.research.google.com/github/aryamtos/convnet-tensorflow/blob/master/Processing_Image.ipynb\" target=\"_parent\"><img src=\"https://colab.research.google.com/assets/colab-badge.svg\" alt=\"Open In Colab\"/></a>"
      ]
    },
    {
      "cell_type": "code",
      "metadata": {
        "id": "nYVwFuWh9-gB"
      },
      "source": [
        "\r\n",
        "import cv2\r\n",
        "import numpy as np\r\n",
        "from PIL import Image\r\n",
        "from numpy import asarray\r\n",
        "from matplotlib import pyplot as plt\r\n",
        "import glob\r\n",
        "import pydicom as dicom\r\n",
        "from os import rename\r\n",
        "from pydicom.encaps import encapsulate\r\n",
        "from PIL import Image, ImageFilter, ImageOps\r\n",
        "import os, sys\r\n",
        "import shutil\r\n",
        "import unicodedata\r\n",
        "import argparse\r\n",
        "import pandas as pd\r\n"
      ],
      "execution_count": 3,
      "outputs": []
    },
    {
      "cell_type": "code",
      "metadata": {
        "id": "FSRw-LzB-sbZ"
      },
      "source": [
        "mlo_muscle = glob.glob(\"/content/drive/MyDrive/Imagem/*.png\")"
      ],
      "execution_count": 4,
      "outputs": []
    },
    {
      "cell_type": "code",
      "metadata": {
        "id": "RLAMDlLnLSBg"
      },
      "source": [
        "\r\n",
        "def select_largest_obj(img_bin, lab_val=255, fill_holes=False, \r\n",
        "                           smooth_boundary=False, kernel_size=15):\r\n",
        "\r\n",
        "        '''Selecione o maior objeto de uma imagem binária e opcionalmente\r\n",
        "        preenche os buracos dentro dele e suaviza seu limite.\r\n",
        "        Args:\r\n",
        "            img_bin (2D array): 2D numpy array da imagem binária.\r\n",
        "            lab_val ([int]): integer value -> label (largest \r\n",
        "                    object). Default = 255.\r\n",
        "            fill_holes ([boolean]): se preenche os buracos dentro do maior \r\n",
        "                    objeto ou não. Default = false.\r\n",
        "            smooth_boundary ([boolean]): se suaviza o limite do \r\n",
        "                    maior objeto usando abertura morfológica ou não.\r\n",
        "                    Default = false.\r\n",
        "            kernel_size ([int]): o tamanho do kernel usado para operação morfológica.\r\n",
        "             Default = 15.\r\n",
        "        Returns:\r\n",
        "        \tBinary mask (:\r\n",
        "\r\n",
        "        '''\r\n",
        "        n_labels, img_labeled, lab_stats, _ = \\\r\n",
        "            cv2.connectedComponentsWithStats(img_bin, connectivity=8, \r\n",
        "                                             ltype=cv2.CV_32S)\r\n",
        "        largest_obj_lab = np.argmax(lab_stats[1:, 4]) + 1\r\n",
        "        largest_mask = np.zeros(img_bin.shape, dtype=np.uint8)\r\n",
        "        largest_mask[img_labeled == largest_obj_lab] = lab_val\r\n",
        "\r\n",
        "        if fill_holes:\r\n",
        "            bkg_locs = np.where(img_labeled == 0)\r\n",
        "            bkg_seed = (bkg_locs[0][0], bkg_locs[1][0])\r\n",
        "            img_floodfill = largest_mask.copy()\r\n",
        "            h_, w_ = largest_mask.shape\r\n",
        "            mask_ = np.zeros((h_ + 2, w_ + 2), dtype=np.uint8)\r\n",
        "            cv2.floodFill(img_floodfill, mask_, seedPoint=bkg_seed, \r\n",
        "                          newVal=lab_val)\r\n",
        "            holes_mask = cv2.bitwise_not(img_floodfill)  # mask of the holes.\r\n",
        "            largest_mask = largest_mask + holes_mask\r\n",
        "        if smooth_boundary:\r\n",
        "            kernel_ = np.ones((kernel_size, kernel_size), dtype=np.uint8)\r\n",
        "            largest_mask = cv2.morphologyEx(largest_mask, cv2.MORPH_OPEN, \r\n",
        "                                            kernel_)\r\n",
        "            \r\n",
        "        return largest_mask\r\n"
      ],
      "execution_count": 5,
      "outputs": []
    },
    {
      "cell_type": "code",
      "metadata": {
        "id": "-I7hck1X-_MI"
      },
      "source": [
        "for i, index in enumerate(mlo_muscle):\r\n",
        "    mammo_org = cv2.imread(index,cv2.IMREAD_GRAYSCALE)\r\n",
        "    mammo_med_blurred = cv2.medianBlur(mammo_org,3)\r\n",
        "    #print(mammo_med_blurred)\r\n",
        "    global_threshold = 18\r\n",
        "    _,mammo_binary = cv2.threshold(mammo_org,global_threshold,maxval = 255,type = cv2.THRESH_BINARY +  cv2.THRESH_OTSU)\r\n",
        "    mammo_breast_mask = select_largest_obj(mammo_binary,lab_val = 255,\r\n",
        "                          fill_holes=False,\r\n",
        "                          smooth_boundary=False, kernel_size=5)\r\n",
        "    #print(mammo_breast_mask)\r\n",
        "    mammo_arti_supr = cv2.bitwise_and(mammo_med_blurred,mammo_breast_mask)\r\n",
        "    cv2.imwrite(index,mammo_arti_supr)"
      ],
      "execution_count": 12,
      "outputs": []
    },
    {
      "cell_type": "code",
      "metadata": {
        "colab": {
          "base_uri": "https://localhost:8080/"
        },
        "id": "i2Qpqhcb-jv-",
        "outputId": "b978d9c3-f8b2-4261-f6c7-312cefdc61af"
      },
      "source": [
        "!pip install pydicom"
      ],
      "execution_count": 2,
      "outputs": [
        {
          "output_type": "stream",
          "text": [
            "Collecting pydicom\n",
            "\u001b[?25l  Downloading https://files.pythonhosted.org/packages/f4/15/df16546bc59bfca390cf072d473fb2c8acd4231636f64356593a63137e55/pydicom-2.1.2-py3-none-any.whl (1.9MB)\n",
            "\u001b[K     |████████████████████████████████| 1.9MB 5.2MB/s \n",
            "\u001b[?25hInstalling collected packages: pydicom\n",
            "Successfully installed pydicom-2.1.2\n"
          ],
          "name": "stdout"
        }
      ]
    },
    {
      "cell_type": "code",
      "metadata": {
        "id": "utgp4y5JK3Ks"
      },
      "source": [
        ""
      ],
      "execution_count": null,
      "outputs": []
    }
  ]
}